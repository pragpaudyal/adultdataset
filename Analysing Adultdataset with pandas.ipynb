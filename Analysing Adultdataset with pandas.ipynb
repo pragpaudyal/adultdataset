{
 "cells": [
  {
   "cell_type": "markdown",
   "metadata": {},
   "source": [
    "# Analysing Adultdataset with pandas\n",
    "\n",
    "In this notebook, we will explore the Adult Income dataset (taken from UCI- http://archive.ics.uci.edu/ml/datasets/Adult) \n",
    "This dataset  The dataset has 32,561 observation and 14 attributes/features. \n",
    "This data is fairly old, it was extracted from the 1994 census bureau database. It is not a good dataset to make income prediction for current time. However, this dataset can be used for understaning analysis process using pandas.\n",
    "We are not doing any prediction but using the data to explore more and get insight into the datasets. During the analysis process we will come across different issuses related to ethics, data etc.   \n"
   ]
  },
  {
   "cell_type": "markdown",
   "metadata": {},
   "source": [
    "###  In this notebook we will: \n",
    "\n",
    "1. Prepare the data for analysis\n",
    "    - Examine the dataset, dropping columns, dropping rows, use proper       data type, find an incorrect data type.\n",
    "2. Explore the relationship between salary and other features \n",
    "    -  Genders, race, education  have impact on  salary? \n",
    "3. Visual exploratory data analysis\n",
    "    - Use seaborn and matplot lib to visual analyse the datasets"
   ]
  },
  {
   "cell_type": "code",
   "execution_count": 84,
   "metadata": {},
   "outputs": [
    {
     "name": "stderr",
     "output_type": "stream",
     "text": [
      "/Users/pragyal/anaconda2/envs/py3/lib/python3.7/site-packages/ipykernel_launcher.py:8: ParserWarning: Falling back to the 'python' engine because the 'c' engine does not support regex separators (separators > 1 char and different from '\\s+' are interpreted as regex); you can avoid this warning by specifying engine='python'.\n",
      "  \n"
     ]
    }
   ],
   "source": [
    "# Import libraries\n",
    "import pandas as pd \n",
    "import seaborn as sns\n",
    "import matplotlib.pyplot as plt\n",
    "\n",
    "# Loading datasets and set column name \n",
    "# and specify the “na_values” to load values of ‘?‘ as missing, marked with a NaN value.\n",
    "data= pd.read_csv(\"adult.csv\", names= ['age', 'workclass', 'fnlwgt', 'education', 'educational_num','marital_status', 'occupation', 'relationship', 'race', 'gender','capital_gain', 'capital_loss', 'hours_per_week', 'native_country','income'],sep=',\\s', na_values=[\"?\"])\n"
   ]
  },
  {
   "cell_type": "markdown",
   "metadata": {},
   "source": [
    "### Dataset features\n",
    "    age: Age of the person\n",
    "    workclass: Class of work\n",
    "    fnlwgt: Final weight of how much of the population it represents\n",
    "    education: Education level\n",
    "    education_num: education level\n",
    "    marital_status:Marital status  of the person\n",
    "    occupation: Occupation  of the person\n",
    "    relationship: Type of relationship\n",
    "    race:Race of the person\n",
    "    sex:Sex of the person\n",
    "    capital_gain:Capital gains obtained\n",
    "    capital_loss:Capital loss\n",
    "    hours_per_week:Average number of hour working per week\n",
    "    native_country: Country of origin\n",
    "    salary: Income level "
   ]
  },
  {
   "cell_type": "code",
   "execution_count": 42,
   "metadata": {},
   "outputs": [
    {
     "name": "stdout",
     "output_type": "stream",
     "text": [
      "   age         workclass  fnlwgt  education  educational_num  \\\n",
      "0   39         State-gov   77516  Bachelors               13   \n",
      "1   50  Self-emp-not-inc   83311  Bachelors               13   \n",
      "2   38           Private  215646    HS-grad                9   \n",
      "3   53           Private  234721       11th                7   \n",
      "4   28           Private  338409  Bachelors               13   \n",
      "\n",
      "       marital_status         occupation   relationship   race  gender  \\\n",
      "0       Never-married       Adm-clerical  Not-in-family  White    Male   \n",
      "1  Married-civ-spouse    Exec-managerial        Husband  White    Male   \n",
      "2            Divorced  Handlers-cleaners  Not-in-family  White    Male   \n",
      "3  Married-civ-spouse  Handlers-cleaners        Husband  Black    Male   \n",
      "4  Married-civ-spouse     Prof-specialty           Wife  Black  Female   \n",
      "\n",
      "   capital_gain  capital_loss  hours_per_week native_country income  \n",
      "0          2174             0              40  United-States  <=50K  \n",
      "1             0             0              13  United-States  <=50K  \n",
      "2             0             0              40  United-States  <=50K  \n",
      "3             0             0              40  United-States  <=50K  \n",
      "4             0             0              40           Cuba  <=50K  \n",
      "age                   0\n",
      "workclass          1836\n",
      "fnlwgt                0\n",
      "education             0\n",
      "educational_num       0\n",
      "marital_status        0\n",
      "occupation         1843\n",
      "relationship          0\n",
      "race                  0\n",
      "gender                0\n",
      "capital_gain          0\n",
      "capital_loss          0\n",
      "hours_per_week        0\n",
      "native_country      583\n",
      "income                0\n",
      "dtype: int64\n",
      "(32561, 15)\n"
     ]
    }
   ],
   "source": [
    "#Examine first 5 rows from the dataset\n",
    "print (data.head())\n",
    "\n",
    "# checking no. of missing values\n",
    "print (data.isnull().sum())\n",
    "\n",
    "# checking the shape of datasets\n",
    "print (data.shape)"
   ]
  },
  {
   "cell_type": "code",
   "execution_count": 43,
   "metadata": {},
   "outputs": [
    {
     "name": "stdout",
     "output_type": "stream",
     "text": [
      "age                0\n",
      "workclass          0\n",
      "fnlwgt             0\n",
      "education          0\n",
      "educational_num    0\n",
      "marital_status     0\n",
      "occupation         0\n",
      "relationship       0\n",
      "race               0\n",
      "gender             0\n",
      "capital_gain       0\n",
      "capital_loss       0\n",
      "hours_per_week     0\n",
      "native_country     0\n",
      "income             0\n",
      "dtype: int64\n",
      "(30162, 15)\n"
     ]
    }
   ],
   "source": [
    "# Handling missing data by dropping rows\n",
    "data.dropna(subset=[\"workclass\", \"occupation\", \"native_country\"], inplace=True)\n",
    "\n",
    "# checking missing value to make sure we have dealt with all of them\n",
    "print(data.isnull().sum())\n",
    "\n",
    "# Checking data shape after dropping rows\n",
    "print(data.shape)"
   ]
  },
  {
   "cell_type": "code",
   "execution_count": null,
   "metadata": {},
   "outputs": [],
   "source": []
  },
  {
   "cell_type": "code",
   "execution_count": 44,
   "metadata": {},
   "outputs": [
    {
     "name": "stdout",
     "output_type": "stream",
     "text": [
      "White                 25933\n",
      "Black                  2817\n",
      "Asian-Pac-Islander      895\n",
      "Amer-Indian-Eskimo      286\n",
      "Other                   231\n",
      "Name: race, dtype: int64\n",
      "White                 0.859790\n",
      "Black                 0.093396\n",
      "Asian-Pac-Islander    0.029673\n",
      "Amer-Indian-Eskimo    0.009482\n",
      "Other                 0.007659\n",
      "Name: race, dtype: float64\n"
     ]
    }
   ],
   "source": [
    "# Exploring the relationship between race and salary\n",
    "\n",
    "# Comparing salary by race \n",
    "print(data.race.value_counts())\n",
    "\n",
    "# Count as proportions\n",
    "print(data.race.value_counts(normalize=True))\n"
   ]
  },
  {
   "cell_type": "code",
   "execution_count": 45,
   "metadata": {},
   "outputs": [],
   "source": [
    "# Creating a dataframe for Less than <=50K \n",
    "\n",
    "LessThan50K= data[data.income==\"<=50K\"]\n",
    "MoreThan50k= data[data.income==\">50K\"]"
   ]
  },
  {
   "cell_type": "code",
   "execution_count": null,
   "metadata": {},
   "outputs": [],
   "source": []
  },
  {
   "cell_type": "code",
   "execution_count": 46,
   "metadata": {},
   "outputs": [
    {
     "name": "stdout",
     "output_type": "stream",
     "text": [
      "White                 0.842853\n",
      "Black                 0.108193\n",
      "Asian-Pac-Islander    0.028560\n",
      "Amer-Indian-Eskimo    0.011124\n",
      "Other                 0.009270\n",
      "Name: race, dtype: float64\n",
      "White                 0.910895\n",
      "Black                 0.048748\n",
      "Asian-Pac-Islander    0.033031\n",
      "Amer-Indian-Eskimo    0.004529\n",
      "Other                 0.002797\n",
      "Name: race, dtype: float64\n"
     ]
    }
   ],
   "source": [
    "# Computing the race by salary (as proportions)\n",
    "print(LessThan50K.race.value_counts(normalize=True))\n",
    "print (MoreThan50k.race.value_counts(normalize=True))"
   ]
  },
  {
   "cell_type": "raw",
   "metadata": {},
   "source": [
    "From the data we can see the dataset is highly imbalance. Only 16% of (Black/Asian/Amer-Indian/Others) are earning less than <=50K a year. In contrast 84% of the White are earning <=50K.  Results for earning over 50k is even bad. Almost 92% of White are earning over 50k compared to only 5% for other ethnic group. We can ethical issues. So we need to be careful and analyse the datsets properly before using it for training purpose. \n",
    "\n",
    "Recently we have seen many similar issues faced by Amazon, HP, google search among othes due to imbalance datasets and training data on highly biased datasets. "
   ]
  },
  {
   "cell_type": "code",
   "execution_count": 47,
   "metadata": {},
   "outputs": [
    {
     "name": "stdout",
     "output_type": "stream",
     "text": [
      "Male      0.617286\n",
      "Female    0.382714\n",
      "Name: gender, dtype: float64\n",
      "Male      0.851891\n",
      "Female    0.148109\n",
      "Name: gender, dtype: float64\n"
     ]
    }
   ],
   "source": [
    "# Now lets compare salary with gender \n",
    "\n",
    "print (LessThan50K.gender.value_counts(normalize= True))\n",
    "print (MoreThan50k.gender.value_counts(normalize=True))"
   ]
  },
  {
   "cell_type": "raw",
   "metadata": {},
   "source": [
    "If we look for <=50 K proportion it is 60 of Male  to 40 of female. However, if we look for >50K again the margin is higher for male compared to female."
   ]
  },
  {
   "cell_type": "code",
   "execution_count": 48,
   "metadata": {},
   "outputs": [
    {
     "name": "stdout",
     "output_type": "stream",
     "text": [
      "Adm-clerical         0.142271\n",
      "Craft-repair         0.137812\n",
      "Other-service        0.135958\n",
      "Sales                0.115388\n",
      "Prof-specialty       0.098305\n",
      "Exec-managerial      0.090712\n",
      "Machine-op-inspct    0.075969\n",
      "Handlers-cleaners    0.055928\n",
      "Transport-moving     0.055310\n",
      "Farming-fishing      0.038580\n",
      "Tech-support         0.027986\n",
      "Protective-serv      0.019158\n",
      "Priv-house-serv      0.006268\n",
      "Armed-Forces         0.000353\n",
      "Name: occupation, dtype: float64\n",
      "Exec-managerial      0.257991\n",
      "Prof-specialty       0.241209\n",
      "Sales                0.129196\n",
      "Craft-repair         0.120938\n",
      "Adm-clerical         0.066329\n",
      "Transport-moving     0.042488\n",
      "Tech-support         0.037027\n",
      "Machine-op-inspct    0.032632\n",
      "Protective-serv      0.027970\n",
      "Other-service        0.017581\n",
      "Farming-fishing      0.015317\n",
      "Handlers-cleaners    0.011055\n",
      "Armed-Forces         0.000133\n",
      "Priv-house-serv      0.000133\n",
      "Name: occupation, dtype: float64\n"
     ]
    }
   ],
   "source": [
    "print(LessThan50K.occupation.value_counts(normalize=True))\n",
    "print (MoreThan50k.occupation.value_counts(normalize=True))"
   ]
  },
  {
   "cell_type": "code",
   "execution_count": 49,
   "metadata": {},
   "outputs": [],
   "source": [
    "# Creating a dataframe for gender\n",
    "\n",
    "Female= data[data.gender==\"Female\"]\n",
    "Male= data[data.gender==\"Male\"]"
   ]
  },
  {
   "cell_type": "code",
   "execution_count": 50,
   "metadata": {},
   "outputs": [
    {
     "name": "stdout",
     "output_type": "stream",
     "text": [
      "Adm-clerical         0.256798\n",
      "Other-service        0.179718\n",
      "Prof-specialty       0.152423\n",
      "Sales                0.127581\n",
      "Exec-managerial      0.116847\n",
      "Machine-op-inspct    0.055510\n",
      "Tech-support         0.034860\n",
      "Craft-repair         0.022081\n",
      "Handlers-cleaners    0.016765\n",
      "Priv-house-serv      0.013801\n",
      "Transport-moving     0.009201\n",
      "Protective-serv      0.007769\n",
      "Farming-fishing      0.006645\n",
      "Name: occupation, dtype: float64\n",
      "Craft-repair         0.187144\n",
      "Exec-managerial      0.139794\n",
      "Prof-specialty       0.124975\n",
      "Sales                0.114622\n",
      "Transport-moving     0.072718\n",
      "Other-service        0.071344\n",
      "Machine-op-inspct    0.069823\n",
      "Adm-clerical         0.059323\n",
      "Handlers-cleaners    0.058194\n",
      "Farming-fishing      0.045339\n",
      "Tech-support         0.028018\n",
      "Protective-serv      0.027870\n",
      "Armed-Forces         0.000442\n",
      "Priv-house-serv      0.000393\n",
      "Name: occupation, dtype: float64\n"
     ]
    }
   ],
   "source": [
    "# Computing the occupation by gender (as proportions) \n",
    "print(Female.occupation.value_counts(normalize= True))\n",
    "print(Male.occupation.value_counts(normalize=True))       "
   ]
  },
  {
   "cell_type": "code",
   "execution_count": 51,
   "metadata": {},
   "outputs": [
    {
     "name": "stdout",
     "output_type": "stream",
     "text": [
      "Never-married            0.440810\n",
      "Divorced                 0.258536\n",
      "Married-civ-spouse       0.151298\n",
      "Widowed                  0.070129\n",
      "Separated                0.058679\n",
      "Married-spouse-absent    0.019321\n",
      "Married-AF-spouse        0.001227\n",
      "Name: marital_status, dtype: float64\n"
     ]
    }
   ],
   "source": [
    "# checking with marital-status  and gender\n",
    "\n",
    "print(Female.marital_status.value_counts(normalize=True))"
   ]
  },
  {
   "cell_type": "code",
   "execution_count": 52,
   "metadata": {},
   "outputs": [],
   "source": [
    "# Mapping income to 0 and 1\n",
    "data[\"income\"]= data[\"income\"].map({'<=50K': 0, '>50K': 1})"
   ]
  },
  {
   "cell_type": "code",
   "execution_count": 53,
   "metadata": {},
   "outputs": [
    {
     "data": {
      "text/html": [
       "<div>\n",
       "<style scoped>\n",
       "    .dataframe tbody tr th:only-of-type {\n",
       "        vertical-align: middle;\n",
       "    }\n",
       "\n",
       "    .dataframe tbody tr th {\n",
       "        vertical-align: top;\n",
       "    }\n",
       "\n",
       "    .dataframe thead th {\n",
       "        text-align: right;\n",
       "    }\n",
       "</style>\n",
       "<table border=\"1\" class=\"dataframe\">\n",
       "  <thead>\n",
       "    <tr style=\"text-align: right;\">\n",
       "      <th></th>\n",
       "      <th>age</th>\n",
       "      <th>workclass</th>\n",
       "      <th>fnlwgt</th>\n",
       "      <th>education</th>\n",
       "      <th>educational_num</th>\n",
       "      <th>marital_status</th>\n",
       "      <th>occupation</th>\n",
       "      <th>relationship</th>\n",
       "      <th>race</th>\n",
       "      <th>gender</th>\n",
       "      <th>capital_gain</th>\n",
       "      <th>capital_loss</th>\n",
       "      <th>hours_per_week</th>\n",
       "      <th>native_country</th>\n",
       "      <th>income</th>\n",
       "    </tr>\n",
       "  </thead>\n",
       "  <tbody>\n",
       "    <tr>\n",
       "      <th>32556</th>\n",
       "      <td>27</td>\n",
       "      <td>Private</td>\n",
       "      <td>257302</td>\n",
       "      <td>Assoc-acdm</td>\n",
       "      <td>12</td>\n",
       "      <td>Married-civ-spouse</td>\n",
       "      <td>Tech-support</td>\n",
       "      <td>Wife</td>\n",
       "      <td>White</td>\n",
       "      <td>Female</td>\n",
       "      <td>0</td>\n",
       "      <td>0</td>\n",
       "      <td>38</td>\n",
       "      <td>United-States</td>\n",
       "      <td>0</td>\n",
       "    </tr>\n",
       "    <tr>\n",
       "      <th>32557</th>\n",
       "      <td>40</td>\n",
       "      <td>Private</td>\n",
       "      <td>154374</td>\n",
       "      <td>HS-grad</td>\n",
       "      <td>9</td>\n",
       "      <td>Married-civ-spouse</td>\n",
       "      <td>Machine-op-inspct</td>\n",
       "      <td>Husband</td>\n",
       "      <td>White</td>\n",
       "      <td>Male</td>\n",
       "      <td>0</td>\n",
       "      <td>0</td>\n",
       "      <td>40</td>\n",
       "      <td>United-States</td>\n",
       "      <td>1</td>\n",
       "    </tr>\n",
       "    <tr>\n",
       "      <th>32558</th>\n",
       "      <td>58</td>\n",
       "      <td>Private</td>\n",
       "      <td>151910</td>\n",
       "      <td>HS-grad</td>\n",
       "      <td>9</td>\n",
       "      <td>Widowed</td>\n",
       "      <td>Adm-clerical</td>\n",
       "      <td>Unmarried</td>\n",
       "      <td>White</td>\n",
       "      <td>Female</td>\n",
       "      <td>0</td>\n",
       "      <td>0</td>\n",
       "      <td>40</td>\n",
       "      <td>United-States</td>\n",
       "      <td>0</td>\n",
       "    </tr>\n",
       "    <tr>\n",
       "      <th>32559</th>\n",
       "      <td>22</td>\n",
       "      <td>Private</td>\n",
       "      <td>201490</td>\n",
       "      <td>HS-grad</td>\n",
       "      <td>9</td>\n",
       "      <td>Never-married</td>\n",
       "      <td>Adm-clerical</td>\n",
       "      <td>Own-child</td>\n",
       "      <td>White</td>\n",
       "      <td>Male</td>\n",
       "      <td>0</td>\n",
       "      <td>0</td>\n",
       "      <td>20</td>\n",
       "      <td>United-States</td>\n",
       "      <td>0</td>\n",
       "    </tr>\n",
       "    <tr>\n",
       "      <th>32560</th>\n",
       "      <td>52</td>\n",
       "      <td>Self-emp-inc</td>\n",
       "      <td>287927</td>\n",
       "      <td>HS-grad</td>\n",
       "      <td>9</td>\n",
       "      <td>Married-civ-spouse</td>\n",
       "      <td>Exec-managerial</td>\n",
       "      <td>Wife</td>\n",
       "      <td>White</td>\n",
       "      <td>Female</td>\n",
       "      <td>15024</td>\n",
       "      <td>0</td>\n",
       "      <td>40</td>\n",
       "      <td>United-States</td>\n",
       "      <td>1</td>\n",
       "    </tr>\n",
       "  </tbody>\n",
       "</table>\n",
       "</div>"
      ],
      "text/plain": [
       "       age     workclass  fnlwgt   education  educational_num  \\\n",
       "32556   27       Private  257302  Assoc-acdm               12   \n",
       "32557   40       Private  154374     HS-grad                9   \n",
       "32558   58       Private  151910     HS-grad                9   \n",
       "32559   22       Private  201490     HS-grad                9   \n",
       "32560   52  Self-emp-inc  287927     HS-grad                9   \n",
       "\n",
       "           marital_status         occupation relationship   race  gender  \\\n",
       "32556  Married-civ-spouse       Tech-support         Wife  White  Female   \n",
       "32557  Married-civ-spouse  Machine-op-inspct      Husband  White    Male   \n",
       "32558             Widowed       Adm-clerical    Unmarried  White  Female   \n",
       "32559       Never-married       Adm-clerical    Own-child  White    Male   \n",
       "32560  Married-civ-spouse    Exec-managerial         Wife  White  Female   \n",
       "\n",
       "       capital_gain  capital_loss  hours_per_week native_country  income  \n",
       "32556             0             0              38  United-States       0  \n",
       "32557             0             0              40  United-States       1  \n",
       "32558             0             0              40  United-States       0  \n",
       "32559             0             0              20  United-States       0  \n",
       "32560         15024             0              40  United-States       1  "
      ]
     },
     "execution_count": 53,
     "metadata": {},
     "output_type": "execute_result"
    }
   ],
   "source": [
    "data.tail()"
   ]
  },
  {
   "cell_type": "code",
   "execution_count": 54,
   "metadata": {},
   "outputs": [
    {
     "name": "stdout",
     "output_type": "stream",
     "text": [
      "gender  occupation        race              \n",
      "Female  Adm-clerical      Amer-Indian-Eskimo    0.045455\n",
      "                          Asian-Pac-Islander    0.085366\n",
      "                          Black                 0.041783\n",
      "                          Other                 0.055556\n",
      "                          White                 0.091088\n",
      "                                                  ...   \n",
      "Male    Transport-moving  Amer-Indian-Eskimo    0.125000\n",
      "                          Asian-Pac-Islander    0.222222\n",
      "                          Black                 0.123288\n",
      "                          Other                 0.076923\n",
      "                          White                 0.221702\n",
      "Name: income, Length: 124, dtype: float64\n"
     ]
    }
   ],
   "source": [
    "# Adding 3 factors for analysis\n",
    "# calculate the income for each combination of gender, occupation and race\n",
    "\n",
    "print(data.groupby([\"gender\",\"occupation\", \"race\"]). income.mean())"
   ]
  },
  {
   "cell_type": "code",
   "execution_count": 55,
   "metadata": {},
   "outputs": [
    {
     "name": "stdout",
     "output_type": "stream",
     "text": [
      "race                occupation        gender\n",
      "Amer-Indian-Eskimo  Adm-clerical      Female    0.045455\n",
      "                                      Male      0.222222\n",
      "                    Armed-Forces      Male      0.000000\n",
      "                    Craft-repair      Female    0.000000\n",
      "                                      Male      0.142857\n",
      "                                                  ...   \n",
      "White               Sales             Male      0.390837\n",
      "                    Tech-support      Female    0.147887\n",
      "                                      Male      0.414062\n",
      "                    Transport-moving  Female    0.136364\n",
      "                                      Male      0.221702\n",
      "Name: income, Length: 124, dtype: float64\n"
     ]
    }
   ],
   "source": [
    "# Reversing the order to group by race before occupation and gender\n",
    "print(data.groupby([\"race\",\"occupation\", \"gender\"]). income.mean())"
   ]
  },
  {
   "cell_type": "code",
   "execution_count": 56,
   "metadata": {},
   "outputs": [
    {
     "name": "stdout",
     "output_type": "stream",
     "text": [
      "race               Amer-Indian-Eskimo  Asian-Pac-Islander  Black  Other  White\n",
      "occupation                                                                    \n",
      "Adm-clerical                       31                 134    480     23   3053\n",
      "Armed-Forces                        1                   0      1      0      7\n",
      "Craft-repair                       44                  83    234     25   3644\n",
      "Exec-managerial                    30                 121    235     11   3595\n",
      "Farming-fishing                    10                  16     42     11    910\n",
      "Handlers-cleaners                  22                  22    170     11   1125\n",
      "Machine-op-inspct                  19                  50    269     39   1589\n",
      "Other-service                      33                 117    553     37   2472\n",
      "Priv-house-serv                     0                   4     27      3    109\n",
      "Prof-specialty                     33                 176    226     28   3575\n",
      "Protective-serv                     8                  14     98      5    519\n",
      "Sales                              26                  96    248     22   3192\n",
      "Tech-support                        4                  42     67      3    796\n",
      "Transport-moving                   25                  20    167     13   1347\n"
     ]
    }
   ],
   "source": [
    "# Create a frequency table of race and occupation\n",
    "print(pd.crosstab(data.occupation, data.race))"
   ]
  },
  {
   "cell_type": "code",
   "execution_count": 57,
   "metadata": {},
   "outputs": [
    {
     "name": "stdout",
     "output_type": "stream",
     "text": [
      "race              Amer-Indian-Eskimo  Asian-Pac-Islander  Black  Other  White\n",
      "workclass                                                                    \n",
      "Federal-gov                       19                  40    168      6    710\n",
      "Local-gov                         36                  39    282      6   1704\n",
      "Private                          190                 655   2100    204  19137\n",
      "Self-emp-inc                       2                  39     23      4   1006\n",
      "Self-emp-not-inc                  24                  67     87      7   2314\n",
      "State-gov                         15                  54    156      4   1050\n",
      "Without-pay                        0                   1      1      0     12\n"
     ]
    }
   ],
   "source": [
    "print(pd.crosstab(data.workclass, data.race))"
   ]
  },
  {
   "cell_type": "code",
   "execution_count": 58,
   "metadata": {},
   "outputs": [
    {
     "name": "stdout",
     "output_type": "stream",
     "text": [
      "col_0              38.437902\n",
      "occupation                  \n",
      "Adm-clerical            3721\n",
      "Armed-Forces               9\n",
      "Craft-repair            4030\n",
      "Exec-managerial         3992\n",
      "Farming-fishing          989\n",
      "Handlers-cleaners       1350\n",
      "Machine-op-inspct       1966\n",
      "Other-service           3212\n",
      "Priv-house-serv          143\n",
      "Prof-specialty          4038\n",
      "Protective-serv          644\n",
      "Sales                   3584\n",
      "Tech-support             912\n",
      "Transport-moving        1572\n"
     ]
    }
   ],
   "source": [
    "print(pd.crosstab(data.occupation, data.age.mean()))"
   ]
  },
  {
   "cell_type": "code",
   "execution_count": 63,
   "metadata": {},
   "outputs": [
    {
     "data": {
      "image/png": "[encoded data removed]",
      "text/plain": [
       "<Figure size 720x360 with 1 Axes>"
      ]
     },
     "metadata": {
      "needs_background": "light"
     },
     "output_type": "display_data"
    }
   ],
   "source": [
    "# Exploratory data analysis using visualisation- using seaborn \n",
    "# Distribution of race vs workclass\n",
    "\n",
    "fig = plt.figure(figsize=(10,5))\n",
    "sns.countplot(data['workclass'],hue =data['race'],palette= 'bright'); "
   ]
  },
  {
   "cell_type": "code",
   "execution_count": 64,
   "metadata": {},
   "outputs": [
    {
     "data": {
      "image/png": "[encoded data removed]",
      "text/plain": [
       "<Figure size 720x360 with 1 Axes>"
      ]
     },
     "metadata": {
      "needs_background": "light"
     },
     "output_type": "display_data"
    }
   ],
   "source": [
    "# Race vs income\n",
    "fig = plt.figure(figsize=(10,5))\n",
    "sns.countplot(data['income'],hue =data['race'],palette= 'bright'); "
   ]
  },
  {
   "cell_type": "code",
   "execution_count": 100,
   "metadata": {},
   "outputs": [
    {
     "data": {
      "image/png": "[encoded data removed]",
      "text/plain": [
       "<Figure size 432x288 with 1 Axes>"
      ]
     },
     "metadata": {
      "needs_background": "light"
     },
     "output_type": "display_data"
    }
   ],
   "source": [
    "#Exploratory data analysis using visualisation- using frequency table & matplot lib \n",
    "gender = round(pd.crosstab(data.gender, data.income))\n",
    "gender.plot(kind=\"bar\")\n",
    "plt.show()"
   ]
  },
  {
   "cell_type": "code",
   "execution_count": 99,
   "metadata": {},
   "outputs": [
    {
     "data": {
      "text/plain": [
       "<AxesSubplot:ylabel='education'>"
      ]
     },
     "execution_count": 99,
     "metadata": {},
     "output_type": "execute_result"
    },
    {
     "data": {
      "image/png": "[encoded data removed]",
      "text/plain": [
       "<Figure size 432x288 with 1 Axes>"
      ]
     },
     "metadata": {
      "needs_background": "light"
     },
     "output_type": "display_data"
    }
   ],
   "source": [
    "education = (pd.crosstab(data.education, data.income))\n",
    "education.plot(kind=\"barh\")"
   ]
  },
  {
   "cell_type": "code",
   "execution_count": null,
   "metadata": {},
   "outputs": [],
   "source": []
  }
 ],
 "metadata": {
  "kernelspec": {
   "display_name": "Python 3",
   "language": "python",
   "name": "python3"
  }
 },
 "nbformat": 4,
 "nbformat_minor": 2
}
